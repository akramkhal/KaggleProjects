{
  "cells": [
    {
      "cell_type": "markdown",
      "metadata": {},
      "source": [
        "# <center><span style=\"color:red;\"> <b> Medical Cost Personal Datasets </b></span></center>\n",
        "\n",
        "<p align=\"center\">\n",
        "    <strong> </strong> <a href=\"https://www.kaggle.com/datasets/mirichoi0218/insurance\"> Kaggle - Insurance Dataset Link</a>\n",
        "</p>\n",
        "\n",
        "## <center><span style=\"text-decoration: underline;\">Exploratory Data Analysis (EDA) + Linear Regression </span></center>"
      ]
    },
    {
      "cell_type": "markdown",
      "metadata": {
        "id": "EMd2vwh8ihnl"
      },
      "source": [
        "<h4 style=\"margin-bottom: 0;\">📝 Dataset Description: Medical Cost Personal Datasets </h4>\n",
        "\n",
        "- **`age`**: Age of the primary beneficiary.\n",
        "- **`sex`**: Gender of the insurance contractor (*female* or *male*).\n",
        "- **`bmi`**: Body Mass Index (BMI), providing an understanding of body weight relative to height.\n",
        "  - BMI is calculated as weight (kg) / height (m²).\n",
        "  - Ideally, BMI should be in the range of **18.5 to 24.9**.\n",
        "- **`children`**: Number of children covered by health insurance (dependents).\n",
        "- **`smoker`**: Indicates whether the individual smokes (*yes* or *no*).\n",
        "- **`region`**: Residential area of the beneficiary in the United States:\n",
        "  - Northeast\n",
        "  - Southeast\n",
        "  - Southwest\n",
        "  - Northwest\n",
        "- **`charges`**: Individual medical costs billed by health insurance.\n",
        "\n",
        "Source: [\"Medical Cost Personal Datasets\" (kaggle.com)](https://www.kaggle.com/datasets/mirichoi0218/insurance/) "
      ]
    },
    {
      "cell_type": "markdown",
      "metadata": {},
      "source": [
        "## <div style=\"text-align:center; border-radius:30px 30px; padding:7px; color:white; margin:0; font-size:90%; font-family:Pacifico; background-color:#3170af; overflow:hidden\"><b> Table of Content </b></div>\n",
        "\n",
        "1. [Import Libraries](#chapter1)\n",
        "2. [Initialize Functions](#chapter2)\n",
        "3. [Descriptive Statistics](#chapter3)\n",
        "4. [Feature Engineering](#chapter4)\n",
        "5. [Graphical + Statistical Analyses](#chapter5)    \n",
        "    &emsp; 5.1 [Data Scientists' Salary](#chapter5a)  \n",
        "    &emsp; 5.2 [Job Category and Salary](#chapter5b)  \n",
        "    &emsp; 5.3 [Salary difference between Data Scientists and Data Engineers](#chapter5c)  \n",
        "    &emsp; 5.4 [Salary and Firm Size](#chapter5d)              \n",
        "    &emsp; &emsp; 5.4.1 [Salary and Median- vs Large-sized Firms](#chapter5e)  \n",
        "    &emsp; 5.5 [Firm Size and Data Science Roles](#chapter5f)   \n",
        "    &emsp; 5.6 [Firm Location and Salary](#chapter5g)     \n",
        "    &emsp; 5.7 [Firm Location and Data Science Roles](#chapter5h)  \n",
        "    &emsp; 5.8 [Experience and Salary](#chapter5i)     \n",
        "    &emsp; 5.9 [Experience and Firm Size](#chapter5j)    \n",
        "6. [Conclusions](#chapter6)"
      ]
    },
    {
      "cell_type": "markdown",
      "metadata": {
        "id": "_XMyOg3cgcN1"
      },
      "source": [
        "<a id=\"chapter1\"></a>\n",
        "## <div style=\"text-align:center; border-radius:30px 30px; padding:7px; color:white; margin:0; font-size:90%; font-family:Pacifico; background-color:#3170af; overflow:hidden\"><b> ⚙️ Download Libraries </b></div>"
      ]
    },
    {
      "cell_type": "code",
      "execution_count": 13,
      "metadata": {
        "id": "2JjaPf35gyCK"
      },
      "outputs": [],
      "source": [
        "import pandas as pd\n",
        "pd.set_option('display.max_columns', None) # Show all columns\n",
        "import numpy as np\n",
        "from scipy import stats\n",
        "import statsmodels.api as sm\n",
        "from statsmodels import stats as sms\n",
        "from IPython.display import display\n",
        "import category_encoders as ce\n",
        "\n",
        "import matplotlib.pyplot as plt\n",
        "import seaborn as sns\n",
        "# Choose the template for your figures\n",
        "sns.set_theme(\"notebook\") \n",
        "sns.set_palette(\"Set3\") \n",
        "\n",
        "from sklearn import linear_model\n",
        "from sklearn import metrics\n",
        "from sklearn import preprocessing\n",
        "from sklearn.model_selection import train_test_split"
      ]
    },
    {
      "cell_type": "markdown",
      "metadata": {},
      "source": [
        "<a id=\"chapter2\"></a>\n",
        "## <div style=\"text-align:center; border-radius:30px 30px; padding:7px; color:white; margin:0; font-size:90%; font-family:Pacifico; background-color:#3170af; overflow:hidden\"><b> 🔬 Prepare Functions for Statistical Analysis </b></div>"
      ]
    },
    {
      "cell_type": "code",
      "execution_count": 14,
      "metadata": {},
      "outputs": [],
      "source": [
        "# Set significance level\n",
        "alpha = 0.05\n",
        "\n",
        "# Function to print whether the data is normaly distributed\n",
        "def normality_test(pvalue):\n",
        "    if pvalue <= alpha:\n",
        "        return f'The p-value ({pvalue:.2f}) is less than the specified significance level {alpha:.2f}. We reject H0 - the data is not normally distributed.'\n",
        "    else:\n",
        "        return f'The p-value ({pvalue:.2f}) is greater than the specified significance level {alpha:.2f}. We fail to reject H0 - the data is normally distributed.'\n",
        "        \n",
        "# Function to print the output of tested hypothesis\n",
        "def hypothesis_test(pvalue):\n",
        "    if pvalue <= alpha:\n",
        "        return f'The p-value ({pvalue:.2f}) is less than the specified significance level {alpha:.2f}. We reject H0.'\n",
        "    else:\n",
        "        return f'The p-value ({pvalue:.2f}) is greater than the specified significance level {alpha:.2f}. We fail to reject H0.'"
      ]
    },
    {
      "cell_type": "markdown",
      "metadata": {},
      "source": [
        "<a id=\"chapter3\"></a>\n",
        "## <div style=\"text-align:center; border-radius:30px 30px; padding:7px; color:white; margin:0; font-size:90%; font-family:Pacifico; background-color:#3170af; overflow:hidden\"><b> ✨ Some preliminary descriptive analysis  </b></div>"
      ]
    },
    {
      "cell_type": "code",
      "execution_count": 15,
      "metadata": {
        "colab": {
          "base_uri": "https://localhost:8080/",
          "height": 206
        },
        "id": "ZPiI902dv11F",
        "outputId": "eccef1b9-a3cc-4144-a9df-a2a020abf30c"
      },
      "outputs": [
        {
          "data": {
            "text/plain": [
              "'Beginning of the dataset:'"
            ]
          },
          "metadata": {},
          "output_type": "display_data"
        },
        {
          "data": {
            "text/html": [
              "<div>\n",
              "<style scoped>\n",
              "    .dataframe tbody tr th:only-of-type {\n",
              "        vertical-align: middle;\n",
              "    }\n",
              "\n",
              "    .dataframe tbody tr th {\n",
              "        vertical-align: top;\n",
              "    }\n",
              "\n",
              "    .dataframe thead th {\n",
              "        text-align: right;\n",
              "    }\n",
              "</style>\n",
              "<table border=\"1\" class=\"dataframe\">\n",
              "  <thead>\n",
              "    <tr style=\"text-align: right;\">\n",
              "      <th></th>\n",
              "      <th>age</th>\n",
              "      <th>sex</th>\n",
              "      <th>bmi</th>\n",
              "      <th>children</th>\n",
              "      <th>smoker</th>\n",
              "      <th>region</th>\n",
              "      <th>charges</th>\n",
              "    </tr>\n",
              "  </thead>\n",
              "  <tbody>\n",
              "    <tr>\n",
              "      <th>0</th>\n",
              "      <td>19</td>\n",
              "      <td>female</td>\n",
              "      <td>27.90</td>\n",
              "      <td>0</td>\n",
              "      <td>yes</td>\n",
              "      <td>southwest</td>\n",
              "      <td>16884.9240</td>\n",
              "    </tr>\n",
              "    <tr>\n",
              "      <th>1</th>\n",
              "      <td>18</td>\n",
              "      <td>male</td>\n",
              "      <td>33.77</td>\n",
              "      <td>1</td>\n",
              "      <td>no</td>\n",
              "      <td>southeast</td>\n",
              "      <td>1725.5523</td>\n",
              "    </tr>\n",
              "  </tbody>\n",
              "</table>\n",
              "</div>"
            ],
            "text/plain": [
              "   age     sex    bmi  children smoker     region     charges\n",
              "0   19  female  27.90         0    yes  southwest  16884.9240\n",
              "1   18    male  33.77         1     no  southeast   1725.5523"
            ]
          },
          "metadata": {},
          "output_type": "display_data"
        },
        {
          "data": {
            "text/plain": [
              "'End of the dataset:'"
            ]
          },
          "metadata": {},
          "output_type": "display_data"
        },
        {
          "data": {
            "text/html": [
              "<div>\n",
              "<style scoped>\n",
              "    .dataframe tbody tr th:only-of-type {\n",
              "        vertical-align: middle;\n",
              "    }\n",
              "\n",
              "    .dataframe tbody tr th {\n",
              "        vertical-align: top;\n",
              "    }\n",
              "\n",
              "    .dataframe thead th {\n",
              "        text-align: right;\n",
              "    }\n",
              "</style>\n",
              "<table border=\"1\" class=\"dataframe\">\n",
              "  <thead>\n",
              "    <tr style=\"text-align: right;\">\n",
              "      <th></th>\n",
              "      <th>age</th>\n",
              "      <th>sex</th>\n",
              "      <th>bmi</th>\n",
              "      <th>children</th>\n",
              "      <th>smoker</th>\n",
              "      <th>region</th>\n",
              "      <th>charges</th>\n",
              "    </tr>\n",
              "  </thead>\n",
              "  <tbody>\n",
              "    <tr>\n",
              "      <th>0</th>\n",
              "      <td>19</td>\n",
              "      <td>female</td>\n",
              "      <td>27.90</td>\n",
              "      <td>0</td>\n",
              "      <td>yes</td>\n",
              "      <td>southwest</td>\n",
              "      <td>16884.9240</td>\n",
              "    </tr>\n",
              "    <tr>\n",
              "      <th>1</th>\n",
              "      <td>18</td>\n",
              "      <td>male</td>\n",
              "      <td>33.77</td>\n",
              "      <td>1</td>\n",
              "      <td>no</td>\n",
              "      <td>southeast</td>\n",
              "      <td>1725.5523</td>\n",
              "    </tr>\n",
              "  </tbody>\n",
              "</table>\n",
              "</div>"
            ],
            "text/plain": [
              "   age     sex    bmi  children smoker     region     charges\n",
              "0   19  female  27.90         0    yes  southwest  16884.9240\n",
              "1   18    male  33.77         1     no  southeast   1725.5523"
            ]
          },
          "metadata": {},
          "output_type": "display_data"
        },
        {
          "data": {
            "text/plain": [
              "'Number of variables:'"
            ]
          },
          "metadata": {},
          "output_type": "display_data"
        },
        {
          "data": {
            "text/plain": [
              "7"
            ]
          },
          "metadata": {},
          "output_type": "display_data"
        },
        {
          "data": {
            "text/plain": [
              "'Number of observations:'"
            ]
          },
          "metadata": {},
          "output_type": "display_data"
        },
        {
          "data": {
            "text/plain": [
              "1338"
            ]
          },
          "metadata": {},
          "output_type": "display_data"
        }
      ],
      "source": [
        "# Upload Dataset\n",
        "df = pd.read_csv('data/insurance.csv')\n",
        "data_temp = df.copy()\n",
        "display('Beginning of the dataset:')\n",
        "display(data_temp.head(2))\n",
        "display('End of the dataset:')\n",
        "display(data_temp.head(2))\n",
        "display(\"Number of variables:\", data_temp.shape[1])\n",
        "display('Number of observations:', data_temp.shape[0])"
      ]
    },
    {
      "cell_type": "code",
      "execution_count": 16,
      "metadata": {},
      "outputs": [
        {
          "name": "stdout",
          "output_type": "stream",
          "text": [
            "<class 'pandas.core.frame.DataFrame'>\n",
            "RangeIndex: 1338 entries, 0 to 1337\n",
            "Data columns (total 7 columns):\n",
            " #   Column    Non-Null Count  Dtype  \n",
            "---  ------    --------------  -----  \n",
            " 0   age       1338 non-null   int64  \n",
            " 1   sex       1338 non-null   object \n",
            " 2   bmi       1338 non-null   float64\n",
            " 3   children  1338 non-null   int64  \n",
            " 4   smoker    1338 non-null   object \n",
            " 5   region    1338 non-null   object \n",
            " 6   charges   1338 non-null   float64\n",
            "dtypes: float64(2), int64(2), object(3)\n",
            "memory usage: 73.3+ KB\n"
          ]
        }
      ],
      "source": [
        "data_temp.info()"
      ]
    },
    {
      "cell_type": "code",
      "execution_count": 17,
      "metadata": {},
      "outputs": [
        {
          "data": {
            "text/html": [
              "<div>\n",
              "<style scoped>\n",
              "    .dataframe tbody tr th:only-of-type {\n",
              "        vertical-align: middle;\n",
              "    }\n",
              "\n",
              "    .dataframe tbody tr th {\n",
              "        vertical-align: top;\n",
              "    }\n",
              "\n",
              "    .dataframe thead th {\n",
              "        text-align: right;\n",
              "    }\n",
              "</style>\n",
              "<table border=\"1\" class=\"dataframe\">\n",
              "  <thead>\n",
              "    <tr style=\"text-align: right;\">\n",
              "      <th></th>\n",
              "      <th>age</th>\n",
              "      <th>bmi</th>\n",
              "      <th>children</th>\n",
              "      <th>charges</th>\n",
              "    </tr>\n",
              "  </thead>\n",
              "  <tbody>\n",
              "    <tr>\n",
              "      <th>count</th>\n",
              "      <td>1338.000000</td>\n",
              "      <td>1338.000000</td>\n",
              "      <td>1338.000000</td>\n",
              "      <td>1338.000000</td>\n",
              "    </tr>\n",
              "    <tr>\n",
              "      <th>mean</th>\n",
              "      <td>39.207025</td>\n",
              "      <td>30.663397</td>\n",
              "      <td>1.094918</td>\n",
              "      <td>13270.422265</td>\n",
              "    </tr>\n",
              "    <tr>\n",
              "      <th>std</th>\n",
              "      <td>14.049960</td>\n",
              "      <td>6.098187</td>\n",
              "      <td>1.205493</td>\n",
              "      <td>12110.011237</td>\n",
              "    </tr>\n",
              "    <tr>\n",
              "      <th>min</th>\n",
              "      <td>18.000000</td>\n",
              "      <td>15.960000</td>\n",
              "      <td>0.000000</td>\n",
              "      <td>1121.873900</td>\n",
              "    </tr>\n",
              "    <tr>\n",
              "      <th>25%</th>\n",
              "      <td>27.000000</td>\n",
              "      <td>26.296250</td>\n",
              "      <td>0.000000</td>\n",
              "      <td>4740.287150</td>\n",
              "    </tr>\n",
              "    <tr>\n",
              "      <th>50%</th>\n",
              "      <td>39.000000</td>\n",
              "      <td>30.400000</td>\n",
              "      <td>1.000000</td>\n",
              "      <td>9382.033000</td>\n",
              "    </tr>\n",
              "    <tr>\n",
              "      <th>75%</th>\n",
              "      <td>51.000000</td>\n",
              "      <td>34.693750</td>\n",
              "      <td>2.000000</td>\n",
              "      <td>16639.912515</td>\n",
              "    </tr>\n",
              "    <tr>\n",
              "      <th>max</th>\n",
              "      <td>64.000000</td>\n",
              "      <td>53.130000</td>\n",
              "      <td>5.000000</td>\n",
              "      <td>63770.428010</td>\n",
              "    </tr>\n",
              "  </tbody>\n",
              "</table>\n",
              "</div>"
            ],
            "text/plain": [
              "               age          bmi     children       charges\n",
              "count  1338.000000  1338.000000  1338.000000   1338.000000\n",
              "mean     39.207025    30.663397     1.094918  13270.422265\n",
              "std      14.049960     6.098187     1.205493  12110.011237\n",
              "min      18.000000    15.960000     0.000000   1121.873900\n",
              "25%      27.000000    26.296250     0.000000   4740.287150\n",
              "50%      39.000000    30.400000     1.000000   9382.033000\n",
              "75%      51.000000    34.693750     2.000000  16639.912515\n",
              "max      64.000000    53.130000     5.000000  63770.428010"
            ]
          },
          "execution_count": 17,
          "metadata": {},
          "output_type": "execute_result"
        }
      ],
      "source": [
        "data_temp.describe()"
      ]
    },
    {
      "cell_type": "code",
      "execution_count": 18,
      "metadata": {},
      "outputs": [
        {
          "data": {
            "text/html": [
              "<div>\n",
              "<style scoped>\n",
              "    .dataframe tbody tr th:only-of-type {\n",
              "        vertical-align: middle;\n",
              "    }\n",
              "\n",
              "    .dataframe tbody tr th {\n",
              "        vertical-align: top;\n",
              "    }\n",
              "\n",
              "    .dataframe thead th {\n",
              "        text-align: right;\n",
              "    }\n",
              "</style>\n",
              "<table border=\"1\" class=\"dataframe\">\n",
              "  <thead>\n",
              "    <tr style=\"text-align: right;\">\n",
              "      <th></th>\n",
              "      <th>sex</th>\n",
              "      <th>smoker</th>\n",
              "      <th>region</th>\n",
              "    </tr>\n",
              "  </thead>\n",
              "  <tbody>\n",
              "    <tr>\n",
              "      <th>count</th>\n",
              "      <td>1338</td>\n",
              "      <td>1338</td>\n",
              "      <td>1338</td>\n",
              "    </tr>\n",
              "    <tr>\n",
              "      <th>unique</th>\n",
              "      <td>2</td>\n",
              "      <td>2</td>\n",
              "      <td>4</td>\n",
              "    </tr>\n",
              "    <tr>\n",
              "      <th>top</th>\n",
              "      <td>male</td>\n",
              "      <td>no</td>\n",
              "      <td>southeast</td>\n",
              "    </tr>\n",
              "    <tr>\n",
              "      <th>freq</th>\n",
              "      <td>676</td>\n",
              "      <td>1064</td>\n",
              "      <td>364</td>\n",
              "    </tr>\n",
              "  </tbody>\n",
              "</table>\n",
              "</div>"
            ],
            "text/plain": [
              "         sex smoker     region\n",
              "count   1338   1338       1338\n",
              "unique     2      2          4\n",
              "top     male     no  southeast\n",
              "freq     676   1064        364"
            ]
          },
          "execution_count": 18,
          "metadata": {},
          "output_type": "execute_result"
        }
      ],
      "source": [
        "data_temp.describe(include='object')"
      ]
    },
    {
      "cell_type": "code",
      "execution_count": 19,
      "metadata": {},
      "outputs": [
        {
          "name": "stdout",
          "output_type": "stream",
          "text": [
            "No infinite values found!\n",
            "No missing values found!\n"
          ]
        }
      ],
      "source": [
        "if data_temp.isin([np.inf, -np.inf]).any().any():\n",
        "    print(\"Infinite values found!\")\n",
        "else:\n",
        "    print(\"No infinite values found!\")    \n",
        "\n",
        "# Check for missing values\n",
        "if data_temp.isnull().any().any():\n",
        "    print(\"Missing values found!\")\n",
        "else:\n",
        "    print(\"No missing values found!\")"
      ]
    },
    {
      "cell_type": "markdown",
      "metadata": {},
      "source": [
        "<a id=\"chapter4\"></a>  \n",
        "## <div style=\"text-align:center; border-radius:30px 30px; padding:7px; color:white; margin:0; font-size:90%; font-family:Pacifico; background-color:#3170af; overflow:hidden\"><b> 🧐 Feature Engineering </b></div>"
      ]
    },
    {
      "cell_type": "code",
      "execution_count": 20,
      "metadata": {},
      "outputs": [
        {
          "data": {
            "text/html": [
              "<div>\n",
              "<style scoped>\n",
              "    .dataframe tbody tr th:only-of-type {\n",
              "        vertical-align: middle;\n",
              "    }\n",
              "\n",
              "    .dataframe tbody tr th {\n",
              "        vertical-align: top;\n",
              "    }\n",
              "\n",
              "    .dataframe thead th {\n",
              "        text-align: right;\n",
              "    }\n",
              "</style>\n",
              "<table border=\"1\" class=\"dataframe\">\n",
              "  <thead>\n",
              "    <tr style=\"text-align: right;\">\n",
              "      <th></th>\n",
              "      <th>age</th>\n",
              "      <th>sex</th>\n",
              "      <th>bmi</th>\n",
              "      <th>children</th>\n",
              "      <th>smoker</th>\n",
              "      <th>region</th>\n",
              "      <th>charges</th>\n",
              "      <th>region_southwest</th>\n",
              "      <th>region_southeast</th>\n",
              "      <th>region_northwest</th>\n",
              "      <th>region_northeast</th>\n",
              "    </tr>\n",
              "  </thead>\n",
              "  <tbody>\n",
              "    <tr>\n",
              "      <th>0</th>\n",
              "      <td>19</td>\n",
              "      <td>0</td>\n",
              "      <td>27.90</td>\n",
              "      <td>0</td>\n",
              "      <td>1</td>\n",
              "      <td>southwest</td>\n",
              "      <td>16884.9240</td>\n",
              "      <td>1</td>\n",
              "      <td>0</td>\n",
              "      <td>0</td>\n",
              "      <td>0</td>\n",
              "    </tr>\n",
              "    <tr>\n",
              "      <th>1</th>\n",
              "      <td>18</td>\n",
              "      <td>1</td>\n",
              "      <td>33.77</td>\n",
              "      <td>1</td>\n",
              "      <td>0</td>\n",
              "      <td>southeast</td>\n",
              "      <td>1725.5523</td>\n",
              "      <td>0</td>\n",
              "      <td>1</td>\n",
              "      <td>0</td>\n",
              "      <td>0</td>\n",
              "    </tr>\n",
              "  </tbody>\n",
              "</table>\n",
              "</div>"
            ],
            "text/plain": [
              "   age  sex    bmi  children  smoker     region     charges  region_southwest  \\\n",
              "0   19    0  27.90         0       1  southwest  16884.9240                 1   \n",
              "1   18    1  33.77         1       0  southeast   1725.5523                 0   \n",
              "\n",
              "   region_southeast  region_northwest  region_northeast  \n",
              "0                 0                 0                 0  \n",
              "1                 1                 0                 0  "
            ]
          },
          "metadata": {},
          "output_type": "display_data"
        }
      ],
      "source": [
        "data_temp['sex'] = data_temp['sex'].astype(str).map({'male': 1, 'female':0})\n",
        "data_temp['smoker'] = data_temp['smoker'].astype(str).map({'yes': 1, 'no':0})\n",
        "\n",
        "encoder = ce.OneHotEncoder('region', use_cat_names=True)\n",
        "type_bin = encoder.fit_transform(data_temp['region'])\n",
        "data_temp = pd.concat([data_temp, type_bin], axis=1)\n",
        "display(data_temp.head(2))"
      ]
    },
    {
      "cell_type": "code",
      "execution_count": 22,
      "metadata": {},
      "outputs": [
        {
          "name": "stdout",
          "output_type": "stream",
          "text": [
            "Number of duplicates: 0\n",
            "Dimension of the dataframe after the drop of duplicates: (1337, 11)\n"
          ]
        }
      ],
      "source": [
        "print(f'Number of duplicates: {data_temp[data_temp.duplicated()].shape[0]}')\n",
        "\n",
        "# Drop duplicates:\n",
        "data_temp = data_temp.drop_duplicates()\n",
        "print('Dimension of the dataframe after the drop of duplicates: {}'.format(data_temp.shape))"
      ]
    },
    {
      "cell_type": "code",
      "execution_count": 25,
      "metadata": {},
      "outputs": [],
      "source": [
        "def combined_heatmap_corr(data, list_columns, title=None):\n",
        "    # Calculate the Pearson and Spearman correlation matrices\n",
        "    correlation_pearson = data[list_columns].corr(numeric_only=True, method='pearson')\n",
        "    correlation_spearman = data[list_columns].corr(numeric_only=True, method='spearman')\n",
        "\n",
        "    # Create a mask for the upper triangle (for Pearson)\n",
        "    mask_upper = np.triu(np.ones_like(correlation_pearson, dtype=bool))\n",
        "    \n",
        "    # Create a mask for the lower triangle (for Spearman)\n",
        "    mask_lower = np.tril(np.ones_like(correlation_spearman , dtype=bool))\n",
        "\n",
        "    # Plotting the heatmap\n",
        "    plt.figure(figsize=(13, 5))\n",
        "    \n",
        "\n",
        "    # Plot the Pearson correlation in the upper triangle\n",
        "    sns.heatmap(\n",
        "        correlation_pearson,\n",
        "        mask=mask_upper,  # Mask lower triangle for Pearson\n",
        "        vmin=-1, # sets the minimum data value that corresponds to the lowest color in the colormap\n",
        "        vmax=1,\n",
        "        annot=True,\n",
        "        annot_kws={\"size\": 7},\n",
        "        cmap='terrain',\n",
        "        linewidths=0.1,\n",
        "        fmt='.2f',\n",
        "        square=True\n",
        "    )\n",
        "\n",
        "    # Plot the Spearman correlation in the lower triangle\n",
        "    sns.heatmap(\n",
        "        correlation_spearman,\n",
        "        mask=mask_lower,  # Mask upper triangle for Spearman\n",
        "        vmin=-1,\n",
        "        vmax=1,\n",
        "        annot=True,\n",
        "        annot_kws={\"size\": 7},\n",
        "        cmap='terrain',\n",
        "        linewidths=0.1,\n",
        "        fmt='.2f',\n",
        "        square=True,\n",
        "        cbar=False  # Disable color bar for second plot to avoid overlap\n",
        "    )\n",
        "\n",
        "    # Fill the diagonal with 1s\n",
        "    for i in range(len(correlation_pearson)):\n",
        "        plt.text(i + 0.5, i + 0.5, '1.00', ha='center', va='center', color='black', fontsize=8) # `ha`(`va`) text will be centered horizontally (vertically) at the specified x (y) - coordinate\n",
        "\n",
        "    plt.title(title, fontsize=13, pad = 10) # pad defines the distance between the title and the graph\n",
        "    plt.text(0.0, -0.40, '* Pearson (Spearman) bottom (upper) left (right) corner', \n",
        "             ha='center', va='center', transform=plt.gca().transAxes, fontsize=7) \n",
        "    plt.show()"
      ]
    },
    {
      "cell_type": "code",
      "execution_count": 26,
      "metadata": {},
      "outputs": [
        {
          "data": {
            "image/png": "[encoded data removed]",
            "text/plain": [
              "<Figure size 1300x500 with 2 Axes>"
            ]
          },
          "metadata": {},
          "output_type": "display_data"
        }
      ],
      "source": [
        "data_corr = data_temp.rename(columns={\n",
        "        'age': 'Age',\n",
        "        'bmi': 'Body Mass Index',\n",
        "        'charges': 'Insurance Charges',\n",
        "        'children': 'Children',\n",
        "        'smoker': 'Smoker',\n",
        "        'sex': 'Gender',\n",
        "        'region_southwest': 'South West',\n",
        "        'region_southeast': 'South East',\n",
        "        'region_northwest': 'North West',\n",
        "        'region_northeast': 'North East'\n",
        "        })\n",
        "\n",
        "# Place \"Insurance Charges\" as the first variable\n",
        "column_order = ['Insurance Charges'] + [col for col in data_corr.columns if col != 'Insurance Charges']\n",
        "data_corr = data_corr[column_order]\n",
        "\n",
        "combined_heatmap_corr(\n",
        "    data=data_corr,\n",
        "    list_columns = list(data_corr.select_dtypes(include=['number']).columns),\n",
        "    title='Combined Correlation Matrix (Pearson and Spearman)'\n",
        ")\n"
      ]
    },
    {
      "cell_type": "markdown",
      "metadata": {},
      "source": [
        "<div style=\"padding: 20px; border: 2px solid #c77220; border-radius: 5px; box-shadow: 0 2px 4px rgba(0, 0, 0, 0.1); max-width: 100%; margin: 0 auto;\">\n",
        "    <ul style=\"font-size: 18px; font-family: 'Arial', sans-serif; line-height: 1.5em; word-wrap: break-word; overflow-wrap: break-word;\">\n",
        "    <h4 style=\"margin-bottom: 0;\">💡 Interpretation:</h4>\n",
        "        <li> The table above presents the correlation matrix, showing Pearson correlations (bottom left) and Spearman correlations (upper right). Our main variable of interest is <code>insurance charges</code>. </li>\n",
        "        <li> The Pearson correlation indicates that insurance charges have a strong correlation with smoking status (those who smoke pay more, with a correlation of 0.79). However, this correlation decreases to 0.66 when using the Spearman correlation. It is important to check for normality and linearity of the relationship before determining which correlation type to use. </li>\n",
        "        <li> Additionally, there is a moderate correlation between age and insurance charges (0.30 for Pearson; 0.53 for Spearman). </li>\n",
        "        <li> All other factors show weak correlations with insurance charges. </li>\n",
        "    </ul>\n",
        "</div>\n",
        "\n",
        "\n",
        "---"
      ]
    },
    {
      "cell_type": "markdown",
      "metadata": {
        "id": "6uAbyderTaNx"
      },
      "source": [
        "<a id=\"chapter5\"></a>\n",
        "## <div style=\"text-align:center; border-radius:30px 30px; padding:7px; color:white; margin:0; font-size:90%; font-family:Pacifico; background-color:#3170af; overflow:hidden\"><b> 📈 Graphical + Statistical Analyses </b></div>"
      ]
    },
    {
      "cell_type": "markdown",
      "metadata": {},
      "source": [
        "<a id=\"chapter5a\"></a>\n",
        "#### <div style=\"text-align:center; border-radius:30px 30px; padding:7px; color:black; margin:0; font-size:90%; font-family:Pacifico; background-color:#d0e4f9; overflow:hidden\"><b> Insurance Charges </b></div>"
      ]
    },
    {
      "cell_type": "code",
      "execution_count": 27,
      "metadata": {},
      "outputs": [
        {
          "data": {
            "image/png": "[encoded data removed]",
            "text/plain": [
              "<Figure size 1200x400 with 2 Axes>"
            ]
          },
          "metadata": {},
          "output_type": "display_data"
        }
      ],
      "source": [
        "fig, axes = plt.subplots(1, 2, figsize = (12, 4))\n",
        "\n",
        "sns.histplot(data_temp['charges'], kde=True, ax=axes[0])\n",
        "axes[0].set(xlabel='Individual health insurance bills', ylabel='Frequency')\n",
        "axes[0].set_title('Distribution of health insurance bills')\n",
        "axes[0].axvline(data_temp['charges'].mean(), color='red', linestyle='--', linewidth=0.8)\n",
        "mean_value = data_temp['charges'].mean()  # Calculate the mean\n",
        "axes[0].annotate(f'Mean: {mean_value:.2f}', \n",
        "                 xy=(data_temp['charges'].mean(), 0),\n",
        "                 xytext=(data_temp['charges'].mean() + 500, 150),\n",
        "                 fontsize=8, color='black')\n",
        "axes[0].axvline(data_temp['charges'].median(), color='red', linestyle=':', linewidth=0.8)\n",
        "median_value = data_temp['charges'].median()  # Calculate the median\n",
        "axes[0].annotate(f'Median: {median_value:.2f}',\n",
        "                 xy=(data_temp['charges'].median(), 0),\n",
        "                 xytext=(data_temp['charges'].median() + 500, 180),\n",
        "                 fontsize=8, color='black')\n",
        "\n",
        "sns.boxplot(data_temp['charges'], ax=axes[1], orient='h', medianprops={\"color\": \"red\", \"linestyle\": '--'})\n",
        "axes[1].set(xlabel='Individual health insurance bills')\n",
        "axes[1].set_title('Distribution of health insurance bills')\n",
        "\n",
        "plt.show();"
      ]
    },
    {
      "cell_type": "code",
      "execution_count": 28,
      "metadata": {},
      "outputs": [
        {
          "data": {
            "text/html": [
              "<div>\n",
              "<style scoped>\n",
              "    .dataframe tbody tr th:only-of-type {\n",
              "        vertical-align: middle;\n",
              "    }\n",
              "\n",
              "    .dataframe tbody tr th {\n",
              "        vertical-align: top;\n",
              "    }\n",
              "\n",
              "    .dataframe thead th {\n",
              "        text-align: right;\n",
              "    }\n",
              "</style>\n",
              "<table border=\"1\" class=\"dataframe\">\n",
              "  <thead>\n",
              "    <tr style=\"text-align: right;\">\n",
              "      <th></th>\n",
              "      <th>Insurance charges</th>\n",
              "    </tr>\n",
              "  </thead>\n",
              "  <tbody>\n",
              "    <tr>\n",
              "      <th>count</th>\n",
              "      <td>1337.00</td>\n",
              "    </tr>\n",
              "    <tr>\n",
              "      <th>mean</th>\n",
              "      <td>13279.12</td>\n",
              "    </tr>\n",
              "    <tr>\n",
              "      <th>std</th>\n",
              "      <td>12110.36</td>\n",
              "    </tr>\n",
              "    <tr>\n",
              "      <th>min</th>\n",
              "      <td>1121.87</td>\n",
              "    </tr>\n",
              "    <tr>\n",
              "      <th>25%</th>\n",
              "      <td>4746.34</td>\n",
              "    </tr>\n",
              "    <tr>\n",
              "      <th>50%</th>\n",
              "      <td>9386.16</td>\n",
              "    </tr>\n",
              "    <tr>\n",
              "      <th>75%</th>\n",
              "      <td>16657.72</td>\n",
              "    </tr>\n",
              "    <tr>\n",
              "      <th>max</th>\n",
              "      <td>63770.43</td>\n",
              "    </tr>\n",
              "  </tbody>\n",
              "</table>\n",
              "</div>"
            ],
            "text/plain": [
              "       Insurance charges\n",
              "count            1337.00\n",
              "mean            13279.12\n",
              "std             12110.36\n",
              "min              1121.87\n",
              "25%              4746.34\n",
              "50%              9386.16\n",
              "75%             16657.72\n",
              "max             63770.43"
            ]
          },
          "metadata": {},
          "output_type": "display_data"
        }
      ],
      "source": [
        "data_charge = data_temp['charges'].describe().round(2).to_frame()\n",
        "data_charge.columns = ['Insurance charges']\n",
        "display(data_charge)"
      ]
    },
    {
      "cell_type": "markdown",
      "metadata": {},
      "source": [
        "<div style=\"padding: 20px; border: 2px solid #c77220; border-radius: 5px; box-shadow: 0 2px 4px rgba(0, 0, 0, 0.1); max-width: 100%; margin: 0 auto;\">\n",
        "    <ul style=\"font-size: 18px; font-family: 'Arial', sans-serif; line-height: 1.5em; word-wrap: break-word; overflow-wrap: break-word;\">\n",
        "    <h4 style=\"margin-bottom: 0;\">💡 Interpretation:</h4>\n",
        "        <li> Individual health insurance bills are right-skewed, with a median value of 9,386.16 and a mean value of 13,279.12 (The data is not normally distributed). </li>\n",
        "        <li>The boxplot indicates the presence of some outliers.</li>\n",
        "        <li> Let's see some descriptive statistics: </li>\n",
        "    </ul>\n",
        "</div>\n",
        "\n",
        "---"
      ]
    },
    {
      "cell_type": "markdown",
      "metadata": {},
      "source": [
        "<a id=\"chapter5b\"></a>\n",
        "#### <div style=\"text-align:center; border-radius:30px 30px; padding:7px; color:black; margin:0; font-size:90%; font-family:Pacifico; background-color:#d0e4f9; overflow:hidden\"><b> 🔍 Insurance bills conditional on an individuals' gender  </b></div>"
      ]
    },
    {
      "cell_type": "code",
      "execution_count": 29,
      "metadata": {},
      "outputs": [
        {
          "data": {
            "image/png": "[encoded data removed]",
            "text/plain": [
              "<Figure size 640x480 with 1 Axes>"
            ]
          },
          "metadata": {},
          "output_type": "display_data"
        }
      ],
      "source": [
        "ax = sns.boxplot(data_temp, x ='charges', y='sex', orient='h', \n",
        "                 hue = 'sex', palette={1: 'steelblue', 0: 'pink'}, \n",
        "                 medianprops={\"color\": \"red\", \"linestyle\": '--'}\n",
        "                 )\n",
        "ax.set_yticks([0, 1])  # Fix the tick positions (0 for 'female', 1 for 'male')\n",
        "ax.set_yticklabels(['Female', 'Male'])\n",
        "ax.set_title('Distribution of insurance bills conditional on gender')\n",
        "ax.set(xlabel = 'Insurance bill', ylabel = 'Gender')\n",
        "if ax.legend_ is not None:\n",
        "    ax.legend_.remove()\n",
        "plt.show();\n"
      ]
    },
    {
      "cell_type": "code",
      "execution_count": 30,
      "metadata": {},
      "outputs": [
        {
          "data": {
            "text/html": [
              "<div>\n",
              "<style scoped>\n",
              "    .dataframe tbody tr th:only-of-type {\n",
              "        vertical-align: middle;\n",
              "    }\n",
              "\n",
              "    .dataframe tbody tr th {\n",
              "        vertical-align: top;\n",
              "    }\n",
              "\n",
              "    .dataframe thead th {\n",
              "        text-align: right;\n",
              "    }\n",
              "</style>\n",
              "<table border=\"1\" class=\"dataframe\">\n",
              "  <thead>\n",
              "    <tr style=\"text-align: right;\">\n",
              "      <th></th>\n",
              "      <th>count</th>\n",
              "      <th>mean</th>\n",
              "      <th>std</th>\n",
              "      <th>min</th>\n",
              "      <th>25%</th>\n",
              "      <th>50%</th>\n",
              "      <th>75%</th>\n",
              "      <th>max</th>\n",
              "    </tr>\n",
              "    <tr>\n",
              "      <th>sex</th>\n",
              "      <th></th>\n",
              "      <th></th>\n",
              "      <th></th>\n",
              "      <th></th>\n",
              "      <th></th>\n",
              "      <th></th>\n",
              "      <th></th>\n",
              "      <th></th>\n",
              "    </tr>\n",
              "  </thead>\n",
              "  <tbody>\n",
              "    <tr>\n",
              "      <th>Female</th>\n",
              "      <td>662.0</td>\n",
              "      <td>12569.58</td>\n",
              "      <td>11128.70</td>\n",
              "      <td>1607.51</td>\n",
              "      <td>4885.16</td>\n",
              "      <td>9412.96</td>\n",
              "      <td>14454.69</td>\n",
              "      <td>63770.43</td>\n",
              "    </tr>\n",
              "    <tr>\n",
              "      <th>Male</th>\n",
              "      <td>675.0</td>\n",
              "      <td>13975.00</td>\n",
              "      <td>12971.96</td>\n",
              "      <td>1121.87</td>\n",
              "      <td>4654.02</td>\n",
              "      <td>9377.90</td>\n",
              "      <td>19006.69</td>\n",
              "      <td>62592.87</td>\n",
              "    </tr>\n",
              "  </tbody>\n",
              "</table>\n",
              "</div>"
            ],
            "text/plain": [
              "        count      mean       std      min      25%      50%       75%  \\\n",
              "sex                                                                      \n",
              "Female  662.0  12569.58  11128.70  1607.51  4885.16  9412.96  14454.69   \n",
              "Male    675.0  13975.00  12971.96  1121.87  4654.02  9377.90  19006.69   \n",
              "\n",
              "             max  \n",
              "sex               \n",
              "Female  63770.43  \n",
              "Male    62592.87  "
            ]
          },
          "metadata": {},
          "output_type": "display_data"
        }
      ],
      "source": [
        "data_group_sex = data_temp.groupby('sex')['charges'].describe().round(2)\n",
        "data_group_sex = data_group_sex.rename(index={1: 'Male', 0: 'Female'})\n",
        "display(data_group_sex)"
      ]
    },
    {
      "cell_type": "markdown",
      "metadata": {},
      "source": [
        "<div style=\"padding: 20px; border: 2px solid #c77220; border-radius: 5px; box-shadow: 0 2px 4px rgba(0, 0, 0, 0.1); max-width: 100%; margin: 0 auto;\">\n",
        "    <ul style=\"font-size: 18px; font-family: 'Arial', sans-serif; line-height: 1.5em; word-wrap: break-word; overflow-wrap: break-word;\">\n",
        "    <h4 style=\"margin-bottom: 0;\">💡 Interpretation:</h4>\n",
        "        <li>  <strong>Graphical Analysis:</strong> Based on the visual representation, we cannot definitively conclude whether there is a significant difference in insurance bills (median) between males and females. </li>\n",
        "        <li><strong>Notable Observations:</strong> Males exhibit a higher interquartile range (IQR) of insurance bills and a higher fourth quartile. These observations may provide an initial expectation of a potential statistically significant difference between male and female insurance bills.</li>\n",
        "        <li> The average value of males' insurance bills is higher than that of females. Additionally, both distributions are right-skewed.</li>\n",
        "        <li> <strong>Important:</strong> The maximum value of female insurance bills is higher than that of males, potentially indicating the presence of more significant outliers in the female group.</li>\n",
        "        <li> Let's see some descriptive statistics: </li>\n",
        "    </ul>\n",
        "</div>\n",
        "\n",
        "---"
      ]
    },
    {
      "cell_type": "markdown",
      "metadata": {},
      "source": [
        "<h4 style=\"margin-bottom: 0;\">📊 Statistical Test:</h4>\n",
        "\n",
        "**Hypothesis to be tested**\n",
        "\n",
        "*There is statistically significant difference in insurance bills between males ($μ_1$) and females ($μ_2$):*\n",
        "\n",
        "$$ H_0 : μ_1 <= μ_2$$\n",
        "$$ H_1 : μ_1 > μ_2$$\n",
        "\n",
        "**Points to consider:**\n",
        "\n",
        "- There are ``two`` groups that are ``independent`` and the data is ``continuous``. So, we can use either ``two-sample independent t-test`` or ``Mann-Whitney U Test``. To choose one of them, we need to check whether the data is normally distributed. If it is normally distributed, we should select a ``two-sample independent t-test``, otherwise we should use a non-parametric statistical test - ``Mann-Whitney U Test``. I am going to test whether the data is normally distributed using ``Shapiro-Wilk test for normality.``"
      ]
    },
    {
      "cell_type": "code",
      "execution_count": 31,
      "metadata": {},
      "outputs": [
        {
          "name": "stdout",
          "output_type": "stream",
          "text": [
            "Normality test for males:\n",
            "The p-value (0.00) is less than the specified significance level 0.05. We reject H0 - the data is not normally distributed.\n",
            "Normality test for females:\n",
            "The p-value (0.00) is less than the specified significance level 0.05. We reject H0 - the data is not normally distributed.\n"
          ]
        }
      ],
      "source": [
        "# Test whether the data is normally distributed. \n",
        "male_bill = data_temp.loc[data_temp['sex'] == 1, 'charges']\n",
        "female_bill = data_temp.loc[data_temp['sex'] == 0, 'charges']\n",
        "\n",
        "print('Normality test for males:')\n",
        "_, pval_norm = stats.shapiro(male_bill)\n",
        "print(normality_test(pval_norm))\n",
        "\n",
        "print('Normality test for females:')\n",
        "_, pval_norm = stats.shapiro(female_bill)\n",
        "print(normality_test(pval_norm))"
      ]
    },
    {
      "cell_type": "markdown",
      "metadata": {},
      "source": [
        "<div style=\"padding: 20px; border: 2px solid #c77220; border-radius: 5px; box-shadow: 0 2px 4px rgba(0, 0, 0, 0.1); max-width: 100%; margin: 0 auto;\">\n",
        "    <ul style=\"font-size: 18px; font-family: 'Arial', sans-serif; line-height: 1.5em; word-wrap: break-word; overflow-wrap: break-word;\">\n",
        "    <h4 style=\"margin-bottom: 0;\">💡 Interpretation:</h4>\n",
        "        <li>  In both cases the data is not normally distributed so we should use a non-parametric statistical test - Mann-Whitney U Test </li>\n",
        "    </ul>\n",
        "</div>"
      ]
    },
    {
      "cell_type": "code",
      "execution_count": 32,
      "metadata": {},
      "outputs": [
        {
          "name": "stdout",
          "output_type": "stream",
          "text": [
            "The p-value (0.35) is greater than the specified significance level 0.05. We fail to reject H0.\n"
          ]
        }
      ],
      "source": [
        "_, pval = stats.mannwhitneyu(male_bill, female_bill, alternative='greater')\n",
        "print(hypothesis_test(pval))"
      ]
    },
    {
      "cell_type": "markdown",
      "metadata": {},
      "source": [
        "<div style=\"padding: 20px; border: 2px solid #c77220; border-radius: 5px; box-shadow: 0 2px 4px rgba(0, 0, 0, 0.1); max-width: 100%; margin: 0 auto;\">\n",
        "    <ul style=\"font-size: 18px; font-family: 'Arial', sans-serif; line-height: 1.5em; word-wrap: break-word; overflow-wrap: break-word;\">\n",
        "    <h4 style=\"margin-bottom: 0;\">💡 Interpretation:</h4>\n",
        "        <li>  There is <b><u>no</u></b> basis to claim that the amount of insurance bills for male clients is higher than for female clients.  </li>\n",
        "    </ul>\n",
        "</div>"
      ]
    },
    {
      "cell_type": "markdown",
      "metadata": {},
      "source": [
        "<a id=\"chapter5b\"></a>\n",
        "#### <div style=\"text-align:center; border-radius:30px 30px; padding:7px; color:black; margin:0; font-size:90%; font-family:Pacifico; background-color:#d0e4f9; overflow:hidden\"><b> 🔍 Insurance bills conditional on whether an individuals is smoking or not  </b></div>"
      ]
    },
    {
      "cell_type": "code",
      "execution_count": 33,
      "metadata": {},
      "outputs": [
        {
          "data": {
            "image/png": "[encoded data removed]",
            "text/plain": [
              "<Figure size 640x480 with 1 Axes>"
            ]
          },
          "metadata": {},
          "output_type": "display_data"
        }
      ],
      "source": [
        "ax = sns.boxplot(data_temp, x = 'charges', y='smoker', orient='h', \n",
        "                 hue = 'smoker', palette={1: 'brown', 0: 'steelblue'}, \n",
        "                 medianprops={\"color\": \"red\", \"linestyle\": '--'}\n",
        "                 )\n",
        "ax.set_yticks([0, 1]) \n",
        "ax.set_yticklabels(['Yes', 'No'])\n",
        "ax.set_title('Distribution of insurance bills conditional on smoking status')\n",
        "ax.set(xlabel = 'Insurance bill', ylabel = 'Smoking')\n",
        "if ax.legend_ is not None:\n",
        "    ax.legend_.remove()\n",
        "plt.show();\n"
      ]
    },
    {
      "cell_type": "code",
      "execution_count": 34,
      "metadata": {},
      "outputs": [
        {
          "data": {
            "text/html": [
              "<div>\n",
              "<style scoped>\n",
              "    .dataframe tbody tr th:only-of-type {\n",
              "        vertical-align: middle;\n",
              "    }\n",
              "\n",
              "    .dataframe tbody tr th {\n",
              "        vertical-align: top;\n",
              "    }\n",
              "\n",
              "    .dataframe thead th {\n",
              "        text-align: right;\n",
              "    }\n",
              "</style>\n",
              "<table border=\"1\" class=\"dataframe\">\n",
              "  <thead>\n",
              "    <tr style=\"text-align: right;\">\n",
              "      <th></th>\n",
              "      <th>count</th>\n",
              "      <th>mean</th>\n",
              "      <th>std</th>\n",
              "      <th>min</th>\n",
              "      <th>25%</th>\n",
              "      <th>50%</th>\n",
              "      <th>75%</th>\n",
              "      <th>max</th>\n",
              "    </tr>\n",
              "    <tr>\n",
              "      <th>smoker</th>\n",
              "      <th></th>\n",
              "      <th></th>\n",
              "      <th></th>\n",
              "      <th></th>\n",
              "      <th></th>\n",
              "      <th></th>\n",
              "      <th></th>\n",
              "      <th></th>\n",
              "    </tr>\n",
              "  </thead>\n",
              "  <tbody>\n",
              "    <tr>\n",
              "      <th>No</th>\n",
              "      <td>1063.0</td>\n",
              "      <td>8440.66</td>\n",
              "      <td>5992.97</td>\n",
              "      <td>1121.87</td>\n",
              "      <td>3988.88</td>\n",
              "      <td>7345.73</td>\n",
              "      <td>11363.02</td>\n",
              "      <td>36910.61</td>\n",
              "    </tr>\n",
              "    <tr>\n",
              "      <th>Yes</th>\n",
              "      <td>274.0</td>\n",
              "      <td>32050.23</td>\n",
              "      <td>11541.55</td>\n",
              "      <td>12829.46</td>\n",
              "      <td>20826.24</td>\n",
              "      <td>34456.35</td>\n",
              "      <td>41019.21</td>\n",
              "      <td>63770.43</td>\n",
              "    </tr>\n",
              "  </tbody>\n",
              "</table>\n",
              "</div>"
            ],
            "text/plain": [
              "         count      mean       std       min       25%       50%       75%  \\\n",
              "smoker                                                                       \n",
              "No      1063.0   8440.66   5992.97   1121.87   3988.88   7345.73  11363.02   \n",
              "Yes      274.0  32050.23  11541.55  12829.46  20826.24  34456.35  41019.21   \n",
              "\n",
              "             max  \n",
              "smoker            \n",
              "No      36910.61  \n",
              "Yes     63770.43  "
            ]
          },
          "metadata": {},
          "output_type": "display_data"
        }
      ],
      "source": [
        "data_group_smoker = data_temp.groupby('smoker')['charges'].describe().round(2)\n",
        "data_group_smoker = data_group_smoker.rename(index={1: 'Yes', 0: 'No'})\n",
        "display(data_group_smoker)"
      ]
    },
    {
      "cell_type": "markdown",
      "metadata": {},
      "source": [
        "<div style=\"padding: 20px; border: 2px solid #c77220; border-radius: 5px; box-shadow: 0 2px 4px rgba(0, 0, 0, 0.1); max-width: 100%; margin: 0 auto;\">\n",
        "    <ul style=\"font-size: 18px; font-family: 'Arial', sans-serif; line-height: 1.5em; word-wrap: break-word; overflow-wrap: break-word;\">\n",
        "    <h4 style=\"margin-bottom: 0;\">💡 Interpretation:</h4>\n",
        "        <li>  Graphical representation clearly indicates that smokers have higher median value of health insurance bills compared to non-smokers. Additionally, there are no outliers in case of smokers. </li>\n",
        "        <li> In case of non-smokers, we can observe that there are some outliers in the data.   </li>       \n",
        "        <li>  The average value of smokers' insurance bills is approximately four times higher than that of non-smokers.  </li>\n",
        "        <li>  The distribution of insurance bills for non-smokers is right-skewed, whereas for smokers, it is left-skewed.  </li>\n",
        "        <li>  <strong>Important point to consider:</strong> The number of observations attributable to smokers is four times lower than that of non-smokers.  </li>\n",
        "</div>"
      ]
    },
    {
      "cell_type": "markdown",
      "metadata": {},
      "source": [
        "<h4 style=\"margin-bottom: 0;\">📊 Statistical Test:</h4>\n",
        "\n",
        "**Hypothesis to be tested**\n",
        "\n",
        "*There is statistically significant difference in insurance bills between smokers ($μ_1$) and fnonsmokers ($μ_2$):*\n",
        "\n",
        "$$ H_0 : μ_1 <= μ_2$$\n",
        "$$ H_1 : μ_1 > μ_2$$\n",
        "\n",
        "**Points to consider:**\n",
        "\n",
        "- There are ``two`` groups that are ``independent`` and the data is ``continuous``. So, we can use either ``two-sample independent t-test`` or ``Mann-Whitney U Test``. To choose one of them, we need to check whether the data is normally distributed. If it is normally distributed, we should select a ``two-sample independent t-test``, otherwise we should use a non-parametric statistical test - ``Mann-Whitney U Test``. I am going to test whether the data is normally distributed using ``Shapiro-Wilk test for normality.``"
      ]
    },
    {
      "cell_type": "code",
      "execution_count": 35,
      "metadata": {},
      "outputs": [
        {
          "name": "stdout",
          "output_type": "stream",
          "text": [
            "Normality test for smokers:\n",
            "The p-value (0.00) is less than the specified significance level 0.05. We reject H0 - the data is not normally distributed.\n",
            "Normality test for nonsmokers:\n",
            "The p-value (0.00) is less than the specified significance level 0.05. We reject H0 - the data is not normally distributed.\n"
          ]
        }
      ],
      "source": [
        "# Test whether the data is normally distributed. \n",
        "smoker_bill = data_temp.loc[data_temp['smoker'] == 1, 'charges']\n",
        "nonsmoker_bill = data_temp.loc[data_temp['smoker'] == 0, 'charges']\n",
        "\n",
        "print('Normality test for smokers:')\n",
        "_, pval_norm = stats.shapiro(smoker_bill)\n",
        "print(normality_test(pval_norm))\n",
        "\n",
        "print('Normality test for nonsmokers:')\n",
        "_, pval_norm = stats.shapiro(nonsmoker_bill)\n",
        "print(normality_test(pval_norm))"
      ]
    },
    {
      "cell_type": "markdown",
      "metadata": {},
      "source": [
        "<div style=\"padding: 20px; border: 2px solid #c77220; border-radius: 5px; box-shadow: 0 2px 4px rgba(0, 0, 0, 0.1); max-width: 100%; margin: 0 auto;\">\n",
        "    <ul style=\"font-size: 18px; font-family: 'Arial', sans-serif; line-height: 1.5em; word-wrap: break-word; overflow-wrap: break-word;\">\n",
        "    <h4 style=\"margin-bottom: 0;\">💡 Interpretation:</h4>\n",
        "        <li>  In both cases the data is not normally distributed so we should use a non-parametric statistical test - Mann-Whitney U Test </li>\n",
        "    </ul>\n",
        "</div>"
      ]
    },
    {
      "cell_type": "code",
      "execution_count": 36,
      "metadata": {},
      "outputs": [
        {
          "name": "stdout",
          "output_type": "stream",
          "text": [
            "The p-value (0.00) is less than the specified significance level 0.05. We reject H0.\n"
          ]
        }
      ],
      "source": [
        "_, pval = stats.mannwhitneyu(smoker_bill, nonsmoker_bill, alternative='greater')\n",
        "print(hypothesis_test(pval))"
      ]
    },
    {
      "cell_type": "markdown",
      "metadata": {},
      "source": [
        "<div style=\"padding: 20px; border: 2px solid #c77220; border-radius: 5px; box-shadow: 0 2px 4px rgba(0, 0, 0, 0.1); max-width: 100%; margin: 0 auto;\">\n",
        "    <ul style=\"font-size: 18px; font-family: 'Arial', sans-serif; line-height: 1.5em; word-wrap: break-word; overflow-wrap: break-word;\">\n",
        "    <h4 style=\"margin-bottom: 0;\">💡 Interpretation:</h4>\n",
        "        <li> The amount of insurance bills for nonsmokers is statistically significant and lower compared to those who smoke.   </li>\n",
        "    </ul>\n",
        "</div>"
      ]
    },
    {
      "cell_type": "markdown",
      "metadata": {},
      "source": [
        "<a id=\"chapter5b\"></a>\n",
        "#### <div style=\"text-align:center; border-radius:30px 30px; padding:7px; color:black; margin:0; font-size:90%; font-family:Pacifico; background-color:#d0e4f9; overflow:hidden\"><b> 🔍 Insurance bills conditional on the region </b></div>"
      ]
    },
    {
      "cell_type": "code",
      "execution_count": 37,
      "metadata": {},
      "outputs": [
        {
          "data": {
            "image/png": "[encoded data removed]",
            "text/plain": [
              "<Figure size 640x480 with 1 Axes>"
            ]
          },
          "metadata": {},
          "output_type": "display_data"
        }
      ],
      "source": [
        "ax = sns.boxplot(data_temp, x = 'charges', y='region', orient='h', \n",
        "                 hue = 'region', palette={'southwest': 'goldenrod', 'southeast': 'steelblue', 'northwest': 'forestgreen', 'northeast': 'firebrick'}, \n",
        "                 medianprops={\"color\": \"red\", \"linestyle\": '--'}\n",
        "                 )\n",
        "ax.set_yticks([0, 1, 2, 3]) \n",
        "ax.set_yticklabels(['South-West', 'South-East', 'North-West', 'North-East'])\n",
        "ax.set_title('Distribution of insurance bills conditional on the region')\n",
        "ax.set(xlabel = 'Insurance bill', ylabel = 'Region')\n",
        "if ax.legend_ is not None:\n",
        "    ax.legend_.remove()\n",
        "plt.show();"
      ]
    },
    {
      "cell_type": "code",
      "execution_count": 38,
      "metadata": {},
      "outputs": [
        {
          "data": {
            "text/html": [
              "<div>\n",
              "<style scoped>\n",
              "    .dataframe tbody tr th:only-of-type {\n",
              "        vertical-align: middle;\n",
              "    }\n",
              "\n",
              "    .dataframe tbody tr th {\n",
              "        vertical-align: top;\n",
              "    }\n",
              "\n",
              "    .dataframe thead th {\n",
              "        text-align: right;\n",
              "    }\n",
              "</style>\n",
              "<table border=\"1\" class=\"dataframe\">\n",
              "  <thead>\n",
              "    <tr style=\"text-align: right;\">\n",
              "      <th></th>\n",
              "      <th>count</th>\n",
              "      <th>mean</th>\n",
              "      <th>std</th>\n",
              "      <th>min</th>\n",
              "      <th>25%</th>\n",
              "      <th>50%</th>\n",
              "      <th>75%</th>\n",
              "      <th>max</th>\n",
              "    </tr>\n",
              "    <tr>\n",
              "      <th>region</th>\n",
              "      <th></th>\n",
              "      <th></th>\n",
              "      <th></th>\n",
              "      <th></th>\n",
              "      <th></th>\n",
              "      <th></th>\n",
              "      <th></th>\n",
              "      <th></th>\n",
              "    </tr>\n",
              "  </thead>\n",
              "  <tbody>\n",
              "    <tr>\n",
              "      <th>northeast</th>\n",
              "      <td>324.0</td>\n",
              "      <td>13406.38</td>\n",
              "      <td>11255.80</td>\n",
              "      <td>1694.80</td>\n",
              "      <td>5194.32</td>\n",
              "      <td>10057.65</td>\n",
              "      <td>16687.36</td>\n",
              "      <td>58571.07</td>\n",
              "    </tr>\n",
              "    <tr>\n",
              "      <th>northwest</th>\n",
              "      <td>324.0</td>\n",
              "      <td>12450.84</td>\n",
              "      <td>11073.13</td>\n",
              "      <td>1621.34</td>\n",
              "      <td>4733.64</td>\n",
              "      <td>8976.98</td>\n",
              "      <td>14788.75</td>\n",
              "      <td>60021.40</td>\n",
              "    </tr>\n",
              "    <tr>\n",
              "      <th>southeast</th>\n",
              "      <td>364.0</td>\n",
              "      <td>14735.41</td>\n",
              "      <td>13971.10</td>\n",
              "      <td>1121.87</td>\n",
              "      <td>4440.89</td>\n",
              "      <td>9294.13</td>\n",
              "      <td>19526.29</td>\n",
              "      <td>63770.43</td>\n",
              "    </tr>\n",
              "    <tr>\n",
              "      <th>southwest</th>\n",
              "      <td>325.0</td>\n",
              "      <td>12346.94</td>\n",
              "      <td>11557.18</td>\n",
              "      <td>1241.56</td>\n",
              "      <td>4751.07</td>\n",
              "      <td>8798.59</td>\n",
              "      <td>13462.52</td>\n",
              "      <td>52590.83</td>\n",
              "    </tr>\n",
              "  </tbody>\n",
              "</table>\n",
              "</div>"
            ],
            "text/plain": [
              "           count      mean       std      min      25%       50%       75%  \\\n",
              "region                                                                       \n",
              "northeast  324.0  13406.38  11255.80  1694.80  5194.32  10057.65  16687.36   \n",
              "northwest  324.0  12450.84  11073.13  1621.34  4733.64   8976.98  14788.75   \n",
              "southeast  364.0  14735.41  13971.10  1121.87  4440.89   9294.13  19526.29   \n",
              "southwest  325.0  12346.94  11557.18  1241.56  4751.07   8798.59  13462.52   \n",
              "\n",
              "                max  \n",
              "region               \n",
              "northeast  58571.07  \n",
              "northwest  60021.40  \n",
              "southeast  63770.43  \n",
              "southwest  52590.83  "
            ]
          },
          "metadata": {},
          "output_type": "display_data"
        }
      ],
      "source": [
        "data_group_region = data_temp.groupby('region')['charges'].describe().round(2)\n",
        "display(data_group_region)"
      ]
    },
    {
      "cell_type": "markdown",
      "metadata": {},
      "source": [
        "<div style=\"padding: 20px; border: 2px solid #c77220; border-radius: 5px; box-shadow: 0 2px 4px rgba(0, 0, 0, 0.1); max-width: 100%; margin: 0 auto;\">\n",
        "    <ul style=\"font-size: 18px; font-family: 'Arial', sans-serif; line-height: 1.5em; word-wrap: break-word; overflow-wrap: break-word;\">\n",
        "    <h4 style=\"margin-bottom: 0;\">💡 Interpretation:</h4>\n",
        "        <li>  The graphical representation does not reveal any significant differences in insurance bills across regions, except for some minor variations. </li>\n",
        "        <li>  Of note, the South-East region has the highest interquartile range (IQR), while the South-West region has the lowest. </li>       \n",
        "        <li>  There is no significant difference in the mean values of insurance bills across regions. The highest mean value is observed in the South-East region, while the lowest is in the North-West.  </li>\n",
        "        <li>  The distributions of insurance bills across regions are right-skewed. </li>\n",
        "        <li>  <strong>Important point to consider:</strong> The number of observations within the regions is approximately equal. </li>\n",
        "</div>"
      ]
    },
    {
      "cell_type": "markdown",
      "metadata": {},
      "source": [
        "<h4 style=\"margin-bottom: 0;\">📊 Statistical Test:</h4>\n",
        "\n",
        "**Hypothesis to be tested**\n",
        "\n",
        "*There is statistically significant difference in insurance bills across different regions: Northeast ($μ_1$), Southeast ($μ_2$), Southwest ($μ_3$), Northwest ($μ_4$):*\n",
        "\n",
        "$$ H_0 : μ_1 = μ_2 = μ_3 = μ_4$$\n",
        "$$ H_1 : μ_1 \\neq μ_2 \\neq μ_3 \\neq μ_4$$\n",
        "\n",
        "**Points to consider:**\n",
        "\n",
        "- There are ``four`` groups that are ``independent`` and the data is ``continuous``. So, we can use either ``one-way ANOVA`` or ``Kruskal-Wallis H Test``, which is a non-parametric alternative to the one-way ANOVA. To choose one of them, we need to check whether the data is normally distributed. If it is normally distributed, we should select a ``one-way ANOVA``, otherwise we should use a non-parametric statistical test - ``Kruskal-Wallis H Test``. I am going to test whether the data is normally distributed using ``Shapiro-Wilk test for normality.``"
      ]
    },
    {
      "cell_type": "code",
      "execution_count": 39,
      "metadata": {},
      "outputs": [
        {
          "name": "stdout",
          "output_type": "stream",
          "text": [
            "Normality - North East region:\n",
            "The p-value (0.00) is less than the specified significance level 0.05. We reject H0 - the data is not normally distributed.\n",
            "Normality - North West region:\n",
            "The p-value (0.00) is less than the specified significance level 0.05. We reject H0 - the data is not normally distributed.\n",
            "Normality - South East region:\n",
            "The p-value (0.00) is less than the specified significance level 0.05. We reject H0 - the data is not normally distributed.\n",
            "Normality - South West region:\n",
            "The p-value (0.00) is less than the specified significance level 0.05. We reject H0 - the data is not normally distributed.\n"
          ]
        }
      ],
      "source": [
        "northeast_bill = data_temp.loc[data_temp['region']=='northeast', 'charges']\n",
        "northwest_bill = data_temp.loc[data_temp['region']=='northwest', 'charges']\n",
        "southeast_bill = data_temp.loc[data_temp['region']=='southeast', 'charges']\n",
        "southwest_bill = data_temp.loc[data_temp['region']=='southwest', 'charges']\n",
        "\n",
        "# Tests of normality\n",
        "print('Normality - North East region:')\n",
        "_, pval = stats.shapiro(northeast_bill)\n",
        "print(normality_test(pval))\n",
        "\n",
        "print('Normality - North West region:')\n",
        "_, pval = stats.shapiro(northwest_bill)\n",
        "print(normality_test(pval))\n",
        "\n",
        "print('Normality - South East region:')\n",
        "_, pval = stats.shapiro(southeast_bill)\n",
        "print(normality_test(pval))\n",
        "\n",
        "print('Normality - South West region:')\n",
        "_, pval = stats.shapiro(southwest_bill)\n",
        "print(normality_test(pval))"
      ]
    },
    {
      "cell_type": "markdown",
      "metadata": {},
      "source": [
        "<div style=\"padding: 20px; border: 2px solid #c77220; border-radius: 5px; box-shadow: 0 2px 4px rgba(0, 0, 0, 0.1); max-width: 100%; margin: 0 auto;\">\n",
        "    <ul style=\"font-size: 18px; font-family: 'Arial', sans-serif; line-height: 1.5em; word-wrap: break-word; overflow-wrap: break-word;\">\n",
        "    <h4 style=\"margin-bottom: 0;\">💡 Interpretation:</h4>\n",
        "        <li> In all cases the data is not normally distributed so we should use a non-parametric statistical test - Kruskal-Wallis H Test</li>\n",
        "    </ul>\n",
        "</div>"
      ]
    },
    {
      "cell_type": "code",
      "execution_count": 40,
      "metadata": {},
      "outputs": [
        {
          "name": "stdout",
          "output_type": "stream",
          "text": [
            "The p-value (0.20) is greater than the specified significance level 0.05. We fail to reject H0.\n"
          ]
        }
      ],
      "source": [
        "_, pval = stats.kruskal(northeast_bill, northwest_bill, southeast_bill, southwest_bill)\n",
        "print(hypothesis_test(pval))"
      ]
    },
    {
      "cell_type": "markdown",
      "metadata": {},
      "source": [
        "<div style=\"padding: 20px; border: 2px solid #c77220; border-radius: 5px; box-shadow: 0 2px 4px rgba(0, 0, 0, 0.1); max-width: 100%; margin: 0 auto;\">\n",
        "    <ul style=\"font-size: 18px; font-family: 'Arial', sans-serif; line-height: 1.5em; word-wrap: break-word; overflow-wrap: break-word;\">\n",
        "    <h4 style=\"margin-bottom: 0;\">💡 Interpretation:</h4>\n",
        "        <li>  We fail to reject H0: There are no statistically significant differences in insurance bills across regions. </li>\n",
        "    </ul>\n",
        "</div>"
      ]
    },
    {
      "cell_type": "markdown",
      "metadata": {},
      "source": [
        "<a id=\"chapter5b\"></a>\n",
        "#### <div style=\"text-align:center; border-radius:30px 30px; padding:7px; color:black; margin:0; font-size:90%; font-family:Pacifico; background-color:#d0e4f9; overflow:hidden\"><b> 🔍 Insurance bills conditional on age group </b></div>"
      ]
    },
    {
      "cell_type": "code",
      "execution_count": 41,
      "metadata": {},
      "outputs": [],
      "source": [
        "# Generate new variable that splits the age into subgroups\n",
        "\"\"\"\n",
        "    18–27: Young Adults (below 25th percentile)\n",
        "    28–39: Early Middle Age (25th to 50th percentile)\n",
        "    40–51: Late Middle Age (50th to 75th percentile)\n",
        "    52–64: Seniors (above 75th percentile)\n",
        "\"\"\"\n",
        "# right = False - ensures that the intervals are as follows [a, b)    \n",
        "data_temp['AgeBins'] = pd.cut(data_temp['age'], \n",
        "                         bins=[18, 28, 40, 52, 65], \n",
        "                         labels=['YoungAdult', 'EarlyMiddleAge', 'LateMiddleAge', 'Seniors'], \n",
        "                         right = False)    "
      ]
    },
    {
      "cell_type": "code",
      "execution_count": 42,
      "metadata": {},
      "outputs": [
        {
          "data": {
            "image/png": "[encoded data removed]",
            "text/plain": [
              "<Figure size 640x480 with 1 Axes>"
            ]
          },
          "metadata": {},
          "output_type": "display_data"
        }
      ],
      "source": [
        "ax = sns.boxplot(data_temp, x = 'charges', y='AgeBins', orient='h', \n",
        "                 hue = 'AgeBins', palette={'YoungAdult': 'goldenrod', 'EarlyMiddleAge': 'steelblue', 'LateMiddleAge': 'forestgreen', 'Seniors': 'firebrick'}, \n",
        "                 medianprops={\"color\": \"red\", \"linestyle\": '--'}\n",
        "                 )\n",
        "ax.set_yticks([0, 1, 2, 3])  \n",
        "ax.set_yticklabels(['Young Adult', 'Early Middle Age', 'Late Middle Age', 'Seniors'])\n",
        "ax.set_title('Distribution of insurance bills conditional on age')\n",
        "ax.set(xlabel = 'Insurance bill', ylabel = 'Age Category')\n",
        "if ax.legend_ is not None:\n",
        "    ax.legend_.remove()\n",
        "plt.show();"
      ]
    },
    {
      "cell_type": "code",
      "execution_count": 43,
      "metadata": {},
      "outputs": [
        {
          "data": {
            "text/html": [
              "<div>\n",
              "<style scoped>\n",
              "    .dataframe tbody tr th:only-of-type {\n",
              "        vertical-align: middle;\n",
              "    }\n",
              "\n",
              "    .dataframe tbody tr th {\n",
              "        vertical-align: top;\n",
              "    }\n",
              "\n",
              "    .dataframe thead th {\n",
              "        text-align: right;\n",
              "    }\n",
              "</style>\n",
              "<table border=\"1\" class=\"dataframe\">\n",
              "  <thead>\n",
              "    <tr style=\"text-align: right;\">\n",
              "      <th></th>\n",
              "      <th>count</th>\n",
              "      <th>mean</th>\n",
              "      <th>std</th>\n",
              "      <th>min</th>\n",
              "      <th>25%</th>\n",
              "      <th>50%</th>\n",
              "      <th>75%</th>\n",
              "      <th>max</th>\n",
              "    </tr>\n",
              "    <tr>\n",
              "      <th>AgeBins</th>\n",
              "      <th></th>\n",
              "      <th></th>\n",
              "      <th></th>\n",
              "      <th></th>\n",
              "      <th></th>\n",
              "      <th></th>\n",
              "      <th></th>\n",
              "      <th></th>\n",
              "    </tr>\n",
              "  </thead>\n",
              "  <tbody>\n",
              "    <tr>\n",
              "      <th>YoungAdult</th>\n",
              "      <td>361.0</td>\n",
              "      <td>9118.85</td>\n",
              "      <td>11558.22</td>\n",
              "      <td>1121.87</td>\n",
              "      <td>1986.93</td>\n",
              "      <td>2897.32</td>\n",
              "      <td>14711.74</td>\n",
              "      <td>44501.40</td>\n",
              "    </tr>\n",
              "    <tr>\n",
              "      <th>EarlyMiddleAge</th>\n",
              "      <td>312.0</td>\n",
              "      <td>11385.96</td>\n",
              "      <td>11659.54</td>\n",
              "      <td>2689.50</td>\n",
              "      <td>4662.40</td>\n",
              "      <td>5796.97</td>\n",
              "      <td>16687.36</td>\n",
              "      <td>58571.07</td>\n",
              "    </tr>\n",
              "    <tr>\n",
              "      <th>LateMiddleAge</th>\n",
              "      <td>337.0</td>\n",
              "      <td>14618.37</td>\n",
              "      <td>11651.65</td>\n",
              "      <td>5415.66</td>\n",
              "      <td>7740.34</td>\n",
              "      <td>9095.07</td>\n",
              "      <td>19144.58</td>\n",
              "      <td>62592.87</td>\n",
              "    </tr>\n",
              "    <tr>\n",
              "      <th>Seniors</th>\n",
              "      <td>327.0</td>\n",
              "      <td>18298.07</td>\n",
              "      <td>11583.67</td>\n",
              "      <td>9140.95</td>\n",
              "      <td>11523.64</td>\n",
              "      <td>12979.36</td>\n",
              "      <td>21496.41</td>\n",
              "      <td>63770.43</td>\n",
              "    </tr>\n",
              "  </tbody>\n",
              "</table>\n",
              "</div>"
            ],
            "text/plain": [
              "                count      mean       std      min       25%       50%  \\\n",
              "AgeBins                                                                  \n",
              "YoungAdult      361.0   9118.85  11558.22  1121.87   1986.93   2897.32   \n",
              "EarlyMiddleAge  312.0  11385.96  11659.54  2689.50   4662.40   5796.97   \n",
              "LateMiddleAge   337.0  14618.37  11651.65  5415.66   7740.34   9095.07   \n",
              "Seniors         327.0  18298.07  11583.67  9140.95  11523.64  12979.36   \n",
              "\n",
              "                     75%       max  \n",
              "AgeBins                             \n",
              "YoungAdult      14711.74  44501.40  \n",
              "EarlyMiddleAge  16687.36  58571.07  \n",
              "LateMiddleAge   19144.58  62592.87  \n",
              "Seniors         21496.41  63770.43  "
            ]
          },
          "metadata": {},
          "output_type": "display_data"
        }
      ],
      "source": [
        "data_group_age = data_temp.groupby('AgeBins', observed=False)['charges'].describe().round(2)\n",
        "display(data_group_age)"
      ]
    },
    {
      "cell_type": "markdown",
      "metadata": {},
      "source": [
        "<div style=\"padding: 20px; border: 2px solid #c77220; border-radius: 5px; box-shadow: 0 2px 4px rgba(0, 0, 0, 0.1); max-width: 100%; margin: 0 auto;\">\n",
        "    <ul style=\"font-size: 18px; font-family: 'Arial', sans-serif; line-height: 1.5em; word-wrap: break-word; overflow-wrap: break-word;\">\n",
        "    <h4 style=\"margin-bottom: 0;\">💡 Interpretation:</h4>\n",
        "        <li>  The graphical representation indicates a clear trend of increasing health insurance bills with age </li>\n",
        "        <li>  With age, the mean value of health-related insurance bills increases. </li>       \n",
        "        <li>  The distributions of insurance bills across age groups are right-skewed.  </li>\n",
        "        <li>  <strong>Important point to consider:</strong> The number of observations within the age group is approximately equal. </li>\n",
        "</div>"
      ]
    },
    {
      "cell_type": "markdown",
      "metadata": {},
      "source": [
        "<h4 style=\"margin-bottom: 0;\">📊 Statistical Test:</h4>\n",
        "\n",
        "**Hypothesis to be tested**\n",
        "\n",
        "*There is statistically significant difference in insurance bills across different age groups: Young Adult ($μ_1$), Early Middle Age ($μ_2$), Late Middle Age ($μ_3$), Seniors ($μ_4$):*\n",
        "\n",
        "$$ H_0 : μ_1 = μ_2 = μ_3 = μ_4$$\n",
        "$$ H_1 : μ_1 \\neq μ_2 \\neq μ_3 \\neq μ_4$$\n",
        "\n",
        "**Points to consider:**\n",
        "\n",
        "- There are ``four`` groups that are ``independent`` and the data is ``continuous``. So, we can use either ``one-way ANOVA`` or ``Kruskal-Wallis H Test``, which is a non-parametric alternative to the one-way ANOVA. To choose one of them, we need to check whether the data is normally distributed. If it is normally distributed, we should select a ``one-way ANOVA``, otherwise we should use a non-parametric statistical test - ``Kruskal-Wallis H Test``. I am going to test whether the data is normally distributed using ``Shapiro-Wilk test for normality.``"
      ]
    },
    {
      "cell_type": "code",
      "execution_count": 44,
      "metadata": {},
      "outputs": [
        {
          "name": "stdout",
          "output_type": "stream",
          "text": [
            "Normality - Young Adults:\n",
            "The p-value (0.00) is less than the specified significance level 0.05. We reject H0 - the data is not normally distributed.\n",
            "Normality - Early Middle Age:\n",
            "The p-value (0.00) is less than the specified significance level 0.05. We reject H0 - the data is not normally distributed.\n",
            "Normality - Late Middle Age:\n",
            "The p-value (0.00) is less than the specified significance level 0.05. We reject H0 - the data is not normally distributed.\n",
            "Normality - Seniors:\n",
            "The p-value (0.00) is less than the specified significance level 0.05. We reject H0 - the data is not normally distributed.\n"
          ]
        }
      ],
      "source": [
        "young_bill = data_temp.loc[data_temp['AgeBins']=='YoungAdult', 'charges']\n",
        "earlymiddle_bill = data_temp.loc[data_temp['AgeBins']=='EarlyMiddleAge', 'charges']\n",
        "latemiddle_bill = data_temp.loc[data_temp['AgeBins']=='LateMiddleAge', 'charges']\n",
        "senior_bill = data_temp.loc[data_temp['AgeBins']=='Seniors', 'charges']\n",
        "\n",
        "# Tests of normality\n",
        "print('Normality - Young Adults:')\n",
        "_, pval = stats.shapiro(young_bill)\n",
        "print(normality_test(pval))\n",
        "\n",
        "print('Normality - Early Middle Age:')\n",
        "_, pval = stats.shapiro(earlymiddle_bill)\n",
        "print(normality_test(pval))\n",
        "\n",
        "print('Normality - Late Middle Age:')\n",
        "_, pval = stats.shapiro(latemiddle_bill)\n",
        "print(normality_test(pval))\n",
        "\n",
        "print('Normality - Seniors:')\n",
        "_, pval = stats.shapiro(senior_bill)\n",
        "print(normality_test(pval))"
      ]
    },
    {
      "cell_type": "markdown",
      "metadata": {},
      "source": [
        "<div style=\"padding: 20px; border: 2px solid #c77220; border-radius: 5px; box-shadow: 0 2px 4px rgba(0, 0, 0, 0.1); max-width: 100%; margin: 0 auto;\">\n",
        "    <ul style=\"font-size: 18px; font-family: 'Arial', sans-serif; line-height: 1.5em; word-wrap: break-word; overflow-wrap: break-word;\">\n",
        "    <h4 style=\"margin-bottom: 0;\">💡 Interpretation:</h4>\n",
        "        <li> In all cases the data is not normally distributed so we should use a non-parametric statistical test - Kruskal-Wallis H Test</li>\n",
        "    </ul>\n",
        "</div>"
      ]
    },
    {
      "cell_type": "code",
      "execution_count": 45,
      "metadata": {},
      "outputs": [
        {
          "name": "stdout",
          "output_type": "stream",
          "text": [
            "The p-value (0.00) is less than the specified significance level 0.05. We reject H0.\n"
          ]
        }
      ],
      "source": [
        "_, pval = stats.kruskal(young_bill, earlymiddle_bill, latemiddle_bill, senior_bill)\n",
        "print(hypothesis_test(pval))"
      ]
    },
    {
      "cell_type": "markdown",
      "metadata": {},
      "source": [
        "<div style=\"padding: 20px; border: 2px solid #c77220; border-radius: 5px; box-shadow: 0 2px 4px rgba(0, 0, 0, 0.1); max-width: 100%; margin: 0 auto;\">\n",
        "    <ul style=\"font-size: 18px; font-family: 'Arial', sans-serif; line-height: 1.5em; word-wrap: break-word; overflow-wrap: break-word;\">\n",
        "    <h4 style=\"margin-bottom: 0;\">💡 Interpretation:</h4>\n",
        "        <li> We find evidence to reject H0: There are statistically significant differences in insurance bills across age groups! </li>\n",
        "    </ul>\n",
        "</div>"
      ]
    },
    {
      "cell_type": "markdown",
      "metadata": {},
      "source": [
        "## <center><span style=\"color:red;\"> <b> 🚨 Conclusions of EDA </b></span><center>"
      ]
    },
    {
      "cell_type": "markdown",
      "metadata": {},
      "source": [
        "<div style=\"padding: 20px; border: 2px solid #c77220; border-radius: 5px; box-shadow: 0 2px 4px rgba(0, 0, 0, 0.1); max-width: 100%; margin: 0 auto;\">\n",
        "    <ul style=\"font-size: 18px; font-family: 'Arial', sans-serif; line-height: 1.5em; word-wrap: break-word; overflow-wrap: break-word;\">\n",
        "    <h4 style=\"margin-bottom: 0;\">💡 Interpretation:</h4>\n",
        "        <li> There is no evidence to suggest that there is a difference in the amount of insurance bills paid by male vs female clients. </li>\n",
        "        <li> The amount of insurance bills for non-smoking clients is lower than for smoking clients. </li>\n",
        "        <li> There is no evidence to suggest that there is a difference in the amount of insurance bills across different regions. </li>\n",
        "        <li> There is evidence to suggest that there is a difference in the amount of insurance bills across different age groups. </li>\n",
        "    </ul>\n",
        "</div>"
      ]
    },
    {
      "cell_type": "markdown",
      "metadata": {},
      "source": [
        "<a id=\"chapter6\"></a>\n",
        "## <div style=\"text-align:center; border-radius:30px 30px; padding:7px; color:white; margin:0; font-size:90%; font-family:Pacifico; background-color:#3170af; overflow:hidden\"><b> 🛠️ Modeling </b></div>"
      ]
    },
    {
      "cell_type": "code",
      "execution_count": 46,
      "metadata": {},
      "outputs": [
        {
          "data": {
            "text/html": [
              "<div>\n",
              "<style scoped>\n",
              "    .dataframe tbody tr th:only-of-type {\n",
              "        vertical-align: middle;\n",
              "    }\n",
              "\n",
              "    .dataframe tbody tr th {\n",
              "        vertical-align: top;\n",
              "    }\n",
              "\n",
              "    .dataframe thead th {\n",
              "        text-align: right;\n",
              "    }\n",
              "</style>\n",
              "<table border=\"1\" class=\"dataframe\">\n",
              "  <thead>\n",
              "    <tr style=\"text-align: right;\">\n",
              "      <th></th>\n",
              "      <th>age</th>\n",
              "      <th>sex</th>\n",
              "      <th>bmi</th>\n",
              "      <th>children</th>\n",
              "      <th>smoker</th>\n",
              "      <th>charges</th>\n",
              "      <th>region_southwest</th>\n",
              "      <th>region_southeast</th>\n",
              "      <th>region_northwest</th>\n",
              "      <th>region_northeast</th>\n",
              "    </tr>\n",
              "  </thead>\n",
              "  <tbody>\n",
              "    <tr>\n",
              "      <th>0</th>\n",
              "      <td>19</td>\n",
              "      <td>0</td>\n",
              "      <td>27.90</td>\n",
              "      <td>0</td>\n",
              "      <td>1</td>\n",
              "      <td>16884.9240</td>\n",
              "      <td>1</td>\n",
              "      <td>0</td>\n",
              "      <td>0</td>\n",
              "      <td>0</td>\n",
              "    </tr>\n",
              "    <tr>\n",
              "      <th>1</th>\n",
              "      <td>18</td>\n",
              "      <td>1</td>\n",
              "      <td>33.77</td>\n",
              "      <td>1</td>\n",
              "      <td>0</td>\n",
              "      <td>1725.5523</td>\n",
              "      <td>0</td>\n",
              "      <td>1</td>\n",
              "      <td>0</td>\n",
              "      <td>0</td>\n",
              "    </tr>\n",
              "  </tbody>\n",
              "</table>\n",
              "</div>"
            ],
            "text/plain": [
              "   age  sex    bmi  children  smoker     charges  region_southwest  \\\n",
              "0   19    0  27.90         0       1  16884.9240                 1   \n",
              "1   18    1  33.77         1       0   1725.5523                 0   \n",
              "\n",
              "   region_southeast  region_northwest  region_northeast  \n",
              "0                 0                 0                 0  \n",
              "1                 1                 0                 0  "
            ]
          },
          "execution_count": 46,
          "metadata": {},
          "output_type": "execute_result"
        }
      ],
      "source": [
        "# Drop variables that won't be used \n",
        "data_temp = data_temp.drop(['region', 'AgeBins'], axis=1)\n",
        "data_temp.head(2)"
      ]
    }
  ],
  "metadata": {
    "colab": {
      "provenance": []
    },
    "kernelspec": {
      "display_name": "base",
      "language": "python",
      "name": "python3"
    },
    "language_info": {
      "codemirror_mode": {
        "name": "ipython",
        "version": 3
      },
      "file_extension": ".py",
      "mimetype": "text/x-python",
      "name": "python",
      "nbconvert_exporter": "python",
      "pygments_lexer": "ipython3",
      "version": "3.12.7"
    }
  },
  "nbformat": 4,
  "nbformat_minor": 0
}
